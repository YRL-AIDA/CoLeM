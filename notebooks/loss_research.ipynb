{
 "cells": [
  {
   "cell_type": "code",
   "execution_count": 1,
   "id": "4700cc26",
   "metadata": {},
   "outputs": [
    {
     "data": {
      "text/plain": [
       "<torch._C.Generator at 0x72b9840ad890>"
      ]
     },
     "execution_count": 1,
     "metadata": {},
     "output_type": "execute_result"
    }
   ],
   "source": [
    "import torch\n",
    "from torch import nn\n",
    "from torch.nn import functional as F\n",
    "\n",
    "torch.manual_seed(42)"
   ]
  },
  {
   "cell_type": "code",
   "execution_count": 2,
   "id": "5a818810",
   "metadata": {},
   "outputs": [],
   "source": [
    "batch_size = 64\n",
    "hidden_size = 128"
   ]
  },
  {
   "cell_type": "code",
   "execution_count": 3,
   "id": "999b4b6e",
   "metadata": {},
   "outputs": [
    {
     "data": {
      "text/plain": [
       "tensor([[1., 0., 0.,  ..., 0., 0., 0.],\n",
       "        [0., 1., 0.,  ..., 0., 0., 0.],\n",
       "        [0., 0., 1.,  ..., 0., 0., 0.],\n",
       "        ...,\n",
       "        [0., 0., 0.,  ..., 1., 0., 0.],\n",
       "        [0., 0., 0.,  ..., 0., 1., 0.],\n",
       "        [0., 0., 0.,  ..., 0., 0., 1.]])"
      ]
     },
     "execution_count": 3,
     "metadata": {},
     "output_type": "execute_result"
    }
   ],
   "source": [
    "eye = torch.eye(batch_size)\n",
    "eye"
   ]
  },
  {
   "cell_type": "code",
   "execution_count": 4,
   "id": "6680f2bd",
   "metadata": {},
   "outputs": [
    {
     "data": {
      "text/plain": [
       "tensor([[ 1.9269,  1.4873,  0.9007,  ...,  0.3399,  0.7200,  0.4114],\n",
       "        [ 1.9312,  1.0119, -1.4364,  ...,  0.5655,  0.5058,  0.2225],\n",
       "        [-0.6855,  0.5636, -1.5072,  ...,  0.8541, -0.4901, -0.3595],\n",
       "        ...,\n",
       "        [-0.1587,  1.6984, -0.0560,  ...,  0.1716,  0.8127, -0.6369],\n",
       "        [-1.3467,  0.6522, -1.3508,  ..., -0.4601,  0.1815,  0.1850],\n",
       "        [ 0.7205, -0.2833,  0.0937,  ...,  0.5409,  0.6940,  1.8563]])"
      ]
     },
     "execution_count": 4,
     "metadata": {},
     "output_type": "execute_result"
    }
   ],
   "source": [
    "# Model output\n",
    "x = torch.randn(batch_size, hidden_size)\n",
    "x"
   ]
  },
  {
   "cell_type": "code",
   "execution_count": 5,
   "id": "dd129f5f",
   "metadata": {},
   "outputs": [
    {
     "data": {
      "text/plain": [
       "tensor([[ 1.0000,  0.1650, -0.0320,  ..., -0.0258, -0.0906,  0.0983],\n",
       "        [ 0.1650,  1.0000,  0.1169,  ..., -0.1471, -0.0317,  0.0102],\n",
       "        [-0.0320,  0.1169,  1.0000,  ...,  0.1656,  0.1017, -0.0095],\n",
       "        ...,\n",
       "        [-0.0258, -0.1471,  0.1656,  ...,  1.0000, -0.0422, -0.0437],\n",
       "        [-0.0906, -0.0317,  0.1017,  ..., -0.0422,  1.0000,  0.0327],\n",
       "        [ 0.0983,  0.0102, -0.0095,  ..., -0.0437,  0.0327,  1.0000]])"
      ]
     },
     "execution_count": 5,
     "metadata": {},
     "output_type": "execute_result"
    }
   ],
   "source": [
    "# compute sim between every pair\n",
    "similarity_matrix = F.cosine_similarity(\n",
    "    x.reshape(1, batch_size, hidden_size), \n",
    "    x.reshape(batch_size, 1, hidden_size), \n",
    "    dim=-1\n",
    ")\n",
    "similarity_matrix"
   ]
  },
  {
   "cell_type": "code",
   "execution_count": 6,
   "id": "b4397832",
   "metadata": {},
   "outputs": [
    {
     "data": {
      "text/plain": [
       "tensor([[   -inf,  0.1650, -0.0320,  ..., -0.0258, -0.0906,  0.0983],\n",
       "        [ 0.1650,    -inf,  0.1169,  ..., -0.1471, -0.0317,  0.0102],\n",
       "        [-0.0320,  0.1169,    -inf,  ...,  0.1656,  0.1017, -0.0095],\n",
       "        ...,\n",
       "        [-0.0258, -0.1471,  0.1656,  ...,    -inf, -0.0422, -0.0437],\n",
       "        [-0.0906, -0.0317,  0.1017,  ..., -0.0422,    -inf,  0.0327],\n",
       "        [ 0.0983,  0.0102, -0.0095,  ..., -0.0437,  0.0327,    -inf]])"
      ]
     },
     "execution_count": 6,
     "metadata": {},
     "output_type": "execute_result"
    }
   ],
   "source": [
    "# discard main diagonal\n",
    "similarity_matrix[eye.bool()] = float(\"-inf\")\n",
    "similarity_matrix"
   ]
  },
  {
   "cell_type": "code",
   "execution_count": 7,
   "id": "0d60090b",
   "metadata": {},
   "outputs": [
    {
     "data": {
      "text/plain": [
       "tensor([ 1,  0,  3,  2,  5,  4,  7,  6,  9,  8, 11, 10, 13, 12, 15, 14, 17, 16,\n",
       "        19, 18, 21, 20, 23, 22, 25, 24, 27, 26, 29, 28, 31, 30, 33, 32, 35, 34,\n",
       "        37, 36, 39, 38, 41, 40, 43, 42, 45, 44, 47, 46, 49, 48, 51, 50, 53, 52,\n",
       "        55, 54, 57, 56, 59, 58, 61, 60, 63, 62])"
      ]
     },
     "execution_count": 7,
     "metadata": {},
     "output_type": "execute_result"
    }
   ],
   "source": [
    "# target matrix\n",
    "target_matrix = torch.arange(batch_size)\n",
    "target_matrix[0::2] += 1\n",
    "target_matrix[1::2] -= 1\n",
    "target_matrix"
   ]
  },
  {
   "cell_type": "code",
   "execution_count": 8,
   "id": "6bd58bca",
   "metadata": {},
   "outputs": [
    {
     "data": {
      "text/plain": [
       "tensor([[ 1],\n",
       "        [ 0],\n",
       "        [ 3],\n",
       "        [ 2],\n",
       "        [ 5],\n",
       "        [ 4],\n",
       "        [ 7],\n",
       "        [ 6],\n",
       "        [ 9],\n",
       "        [ 8],\n",
       "        [11],\n",
       "        [10],\n",
       "        [13],\n",
       "        [12],\n",
       "        [15],\n",
       "        [14],\n",
       "        [17],\n",
       "        [16],\n",
       "        [19],\n",
       "        [18],\n",
       "        [21],\n",
       "        [20],\n",
       "        [23],\n",
       "        [22],\n",
       "        [25],\n",
       "        [24],\n",
       "        [27],\n",
       "        [26],\n",
       "        [29],\n",
       "        [28],\n",
       "        [31],\n",
       "        [30],\n",
       "        [33],\n",
       "        [32],\n",
       "        [35],\n",
       "        [34],\n",
       "        [37],\n",
       "        [36],\n",
       "        [39],\n",
       "        [38],\n",
       "        [41],\n",
       "        [40],\n",
       "        [43],\n",
       "        [42],\n",
       "        [45],\n",
       "        [44],\n",
       "        [47],\n",
       "        [46],\n",
       "        [49],\n",
       "        [48],\n",
       "        [51],\n",
       "        [50],\n",
       "        [53],\n",
       "        [52],\n",
       "        [55],\n",
       "        [54],\n",
       "        [57],\n",
       "        [56],\n",
       "        [59],\n",
       "        [58],\n",
       "        [61],\n",
       "        [60],\n",
       "        [63],\n",
       "        [62]])"
      ]
     },
     "execution_count": 8,
     "metadata": {},
     "output_type": "execute_result"
    }
   ],
   "source": [
    "index = target_matrix.reshape(batch_size, 1).long()\n",
    "index"
   ]
  },
  {
   "cell_type": "code",
   "execution_count": 9,
   "id": "6e12b18c",
   "metadata": {},
   "outputs": [
    {
     "data": {
      "text/plain": [
       "tensor([[0, 1, 0,  ..., 0, 0, 0],\n",
       "        [1, 0, 0,  ..., 0, 0, 0],\n",
       "        [0, 0, 0,  ..., 0, 0, 0],\n",
       "        ...,\n",
       "        [0, 0, 0,  ..., 0, 0, 0],\n",
       "        [0, 0, 0,  ..., 0, 0, 1],\n",
       "        [0, 0, 0,  ..., 0, 1, 0]])"
      ]
     },
     "execution_count": 9,
     "metadata": {},
     "output_type": "execute_result"
    }
   ],
   "source": [
    "# create labels matrix\n",
    "zeros = torch.zeros(batch_size, batch_size).long()\n",
    "ones = torch.ones(batch_size, batch_size).long()\n",
    "\n",
    "ground_truth_labels = torch.scatter(zeros, 1, index, ones)\n",
    "ground_truth_labels"
   ]
  },
  {
   "cell_type": "code",
   "execution_count": 10,
   "id": "3c559ff7",
   "metadata": {},
   "outputs": [
    {
     "data": {
      "text/plain": [
       "tensor(4.1355)"
      ]
     },
     "execution_count": 10,
     "metadata": {},
     "output_type": "execute_result"
    }
   ],
   "source": [
    "F.cross_entropy(similarity_matrix, target_matrix, reduction=\"mean\")"
   ]
  },
  {
   "cell_type": "code",
   "execution_count": 11,
   "id": "f14a7d62",
   "metadata": {},
   "outputs": [
    {
     "name": "stdout",
     "output_type": "stream",
     "text": [
      "Temperature: 0.01, Loss: 18.72327995300293\n",
      "Temperature: 0.10, Loss: 4.395903587341309\n",
      "Temperature: 0.50, Loss: 4.135308742523193\n",
      "Temperature: 1.00, Loss: 4.135462760925293\n",
      "Temperature: 10.00, Loss: 4.142027854919434\n"
     ]
    }
   ],
   "source": [
    "# implementation\n",
    "def nt_xent_loss(model_output, temperature):\n",
    "    \"\"\"Calculate NT-Xent loss.\n",
    "\n",
    "    Args:\n",
    "        model_output (Tensor): Model output\n",
    "        temperature (float): Loss temperature\n",
    "\n",
    "    Returns:\n",
    "        Tensor: NT-Xent loss\n",
    "    \"\"\"\n",
    "    batch_size = model_output.shape[0]\n",
    "    hidden_size = model_output.shape[1]\n",
    "    \n",
    "    # Cosine similarity\n",
    "    similarity_matrix = F.cosine_similarity(\n",
    "        x.reshape(1, batch_size, hidden_size),\n",
    "        x.reshape(batch_size, 1, hidden_size),\n",
    "        dim=-1\n",
    "    )\n",
    "\n",
    "    # Discard main diagonal\n",
    "    similarity_matrix[torch.eye(batch_size).bool()] = float(\"-inf\")\n",
    "\n",
    "    # Labels\n",
    "    labels = torch.arange(batch_size)\n",
    "    labels[0::2] += 1\n",
    "    labels[1::2] -= 1\n",
    "    \n",
    "    # Compute cross entropy loss\n",
    "    return F.cross_entropy(similarity_matrix / temperature, labels, reduction=\"mean\")\n",
    "\n",
    "torch.manual_seed(42)\n",
    "batch = torch.randn(batch_size, hidden_size)\n",
    "\n",
    "for t in (0.01, 0.1, 0.5, 1.0, 10.0):\n",
    "    print(f\"Temperature: {t:.2f}, Loss: {nt_xent_loss(batch, temperature=t)}\")"
   ]
  }
 ],
 "metadata": {
  "kernelspec": {
   "display_name": "colem-jqvTiDmx-py3.12",
   "language": "python",
   "name": "python3"
  },
  "language_info": {
   "codemirror_mode": {
    "name": "ipython",
    "version": 3
   },
   "file_extension": ".py",
   "mimetype": "text/x-python",
   "name": "python",
   "nbconvert_exporter": "python",
   "pygments_lexer": "ipython3",
   "version": "3.12.7"
  }
 },
 "nbformat": 4,
 "nbformat_minor": 5
}
